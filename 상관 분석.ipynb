{
 "cells": [
  {
   "cell_type": "markdown",
   "id": "4b78bfba",
   "metadata": {},
   "source": [
    "# ecomomics 데이터를 이용해서 unemploy(실업자 수)와 pce(개인 소비 지출)"
   ]
  },
  {
   "cell_type": "code",
   "execution_count": 5,
   "id": "9e8c19c1",
   "metadata": {},
   "outputs": [
    {
     "data": {
      "text/html": [
       "<div>\n",
       "<style scoped>\n",
       "    .dataframe tbody tr th:only-of-type {\n",
       "        vertical-align: middle;\n",
       "    }\n",
       "\n",
       "    .dataframe tbody tr th {\n",
       "        vertical-align: top;\n",
       "    }\n",
       "\n",
       "    .dataframe thead th {\n",
       "        text-align: right;\n",
       "    }\n",
       "</style>\n",
       "<table border=\"1\" class=\"dataframe\">\n",
       "  <thead>\n",
       "    <tr style=\"text-align: right;\">\n",
       "      <th></th>\n",
       "      <th>unemploy</th>\n",
       "      <th>pce</th>\n",
       "    </tr>\n",
       "  </thead>\n",
       "  <tbody>\n",
       "    <tr>\n",
       "      <th>unemploy</th>\n",
       "      <td>1.000000</td>\n",
       "      <td>0.614518</td>\n",
       "    </tr>\n",
       "    <tr>\n",
       "      <th>pce</th>\n",
       "      <td>0.614518</td>\n",
       "      <td>1.000000</td>\n",
       "    </tr>\n",
       "  </tbody>\n",
       "</table>\n",
       "</div>"
      ],
      "text/plain": [
       "          unemploy       pce\n",
       "unemploy  1.000000  0.614518\n",
       "pce       0.614518  1.000000"
      ]
     },
     "execution_count": 5,
     "metadata": {},
     "output_type": "execute_result"
    }
   ],
   "source": [
    "import pandas as pd\n",
    "\n",
    "#데이터 불러오기\n",
    "economics = pd.read_csv('economics.csv')\n",
    "\n",
    "#상관행렬 만들기\n",
    "economics[['unemploy', 'pce']].corr()"
   ]
  },
  {
   "cell_type": "markdown",
   "id": "60fc9041",
   "metadata": {},
   "source": [
    "상관계수가 양수 0.61 이므로 실업자 수와 개인 소비 지출은 한 변수가 증가하면 다른 변수가 증가하는 정비례 관계"
   ]
  },
  {
   "cell_type": "code",
   "execution_count": 7,
   "id": "3a47ea69",
   "metadata": {},
   "outputs": [
    {
     "data": {
      "text/plain": [
       "(0.6145176141932082, 6.773527303291316e-61)"
      ]
     },
     "execution_count": 7,
     "metadata": {},
     "output_type": "execute_result"
    }
   ],
   "source": [
    "from scipy import stats\n",
    "# 상관분석\n",
    "stats.pearsonr(economics['unemploy'], economics['pce'])"
   ]
  },
  {
   "cell_type": "code",
   "execution_count": null,
   "id": "ce0bde5f",
   "metadata": {},
   "outputs": [],
   "source": []
  },
  {
   "cell_type": "code",
   "execution_count": null,
   "id": "48b623c5",
   "metadata": {},
   "outputs": [],
   "source": []
  },
  {
   "cell_type": "code",
   "execution_count": null,
   "id": "b9770a00",
   "metadata": {},
   "outputs": [],
   "source": []
  },
  {
   "cell_type": "code",
   "execution_count": null,
   "id": "a37060b4",
   "metadata": {},
   "outputs": [],
   "source": []
  },
  {
   "cell_type": "code",
   "execution_count": null,
   "id": "c2fe8a2b",
   "metadata": {},
   "outputs": [],
   "source": []
  },
  {
   "cell_type": "code",
   "execution_count": null,
   "id": "eb469b19",
   "metadata": {},
   "outputs": [],
   "source": []
  },
  {
   "cell_type": "code",
   "execution_count": null,
   "id": "48e8297e",
   "metadata": {},
   "outputs": [],
   "source": []
  },
  {
   "cell_type": "code",
   "execution_count": null,
   "id": "1b1fe611",
   "metadata": {},
   "outputs": [],
   "source": []
  }
 ],
 "metadata": {
  "kernelspec": {
   "display_name": "Python 3 (ipykernel)",
   "language": "python",
   "name": "python3"
  },
  "language_info": {
   "codemirror_mode": {
    "name": "ipython",
    "version": 3
   },
   "file_extension": ".py",
   "mimetype": "text/x-python",
   "name": "python",
   "nbconvert_exporter": "python",
   "pygments_lexer": "ipython3",
   "version": "3.9.12"
  }
 },
 "nbformat": 4,
 "nbformat_minor": 5
}
